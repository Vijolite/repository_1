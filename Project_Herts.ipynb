{
 "cells": [
  {
   "cell_type": "markdown",
   "metadata": {
    "collapsed": true
   },
   "source": [
    "<h1>Introduction</h1>\n"
   ]
  },
  {
   "cell_type": "markdown",
   "metadata": {},
   "source": [
    "The task is to explore cities in Hertforshire (England) and their popular places (venues).\n",
    "\n",
    "To understand in which city center is better to open a new medium class Italian restaurant, considering that we are going to open one in Hertforshire. \n",
    "\n",
    "As we see, usually centers of all cities located relatively close to each other contains very similar food/entertainment and other popular places, therefore it will be interesting to explore if the similar amount of Italian places close to the center of a city can define a similarity in other popular places close to the center.\n",
    "\n",
    "The audience is an entrepreneur going to open an Italian restaurant in Hertforshire, as also entrepreneurs going to open any eating place in Hertforshire.\n"
   ]
  },
  {
   "cell_type": "markdown",
   "metadata": {},
   "source": [
    "<h1>Data + source of data</h1>"
   ]
  },
  {
   "cell_type": "markdown",
   "metadata": {},
   "source": [
    "Data source for the list of the cities and their population a table in Wikipedia page https://en.wikipedia.org/wiki/List_of_settlements_in_Hertfordshire_by_population\n",
    "\n",
    "For the cities’ coordinates we can use geolocator latitude and longitude. As there exist cities with same names located in different countries, better to add “Hertfordshire, England” to the city names for searching.\n",
    "\n",
    "For the information about popular places (venues) we can get data from Foursquare database using coordinates from geolocator.\n",
    "\n",
    "As soon as we got all the data, we could explore more popular places in radius 1 km from city center in each city of Hertforshire. Can take a look in what cities there are Italian restaurants in top 10 places; also what popular places from the other cities each city do not have. Can compare relative amount of Italian places (amount of Italian places divided by population) for each city; and relative amount of all popular eating places. With clustering could see what cities are similar by their popular places, and if there is or not any correlation with similarity in relative amount of Italian places.\n"
   ]
  },
  {
   "cell_type": "code",
   "execution_count": null,
   "metadata": {},
   "outputs": [],
   "source": []
  }
 ],
 "metadata": {
  "kernelspec": {
   "display_name": "Python 3.6",
   "language": "python",
   "name": "python3"
  },
  "language_info": {
   "codemirror_mode": {
    "name": "ipython",
    "version": 3
   },
   "file_extension": ".py",
   "mimetype": "text/x-python",
   "name": "python",
   "nbconvert_exporter": "python",
   "pygments_lexer": "ipython3",
   "version": "3.6.8"
  }
 },
 "nbformat": 4,
 "nbformat_minor": 1
}
